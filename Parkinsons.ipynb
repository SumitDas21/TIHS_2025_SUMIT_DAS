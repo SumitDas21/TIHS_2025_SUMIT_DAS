{
  "nbformat": 4,
  "nbformat_minor": 0,
  "metadata": {
    "colab": {
      "provenance": []
    },
    "kernelspec": {
      "name": "python3",
      "display_name": "Python 3"
    },
    "language_info": {
      "name": "python"
    }
  },
  "cells": [
    {
      "cell_type": "markdown",
      "source": [
        "##**Parkinson’s Disease Detection using Machine Learning (Logistic Regression and Random Forest)**"
      ],
      "metadata": {
        "id": "jVQDrtT_bf6i"
      }
    },
    {
      "cell_type": "markdown",
      "source": [
        "**Submitted by : Sumit Dass**"
      ],
      "metadata": {
        "id": "u7MdrynIdlOJ"
      }
    },
    {
      "cell_type": "code",
      "execution_count": 1,
      "metadata": {
        "id": "HD7vrXlBVNtm"
      },
      "outputs": [],
      "source": [
        "import pandas as pd\n",
        "import numpy as np\n",
        "import matplotlib.pyplot as plt\n",
        "import seaborn as sns\n",
        "\n",
        "from sklearn.model_selection import train_test_split\n",
        "from sklearn.preprocessing import StandardScaler\n",
        "from sklearn.linear_model import LogisticRegression\n",
        "from sklearn.ensemble import RandomForestClassifier\n",
        "from sklearn.metrics import accuracy_score, classification_report, confusion_matrix\n"
      ]
    },
    {
      "cell_type": "code",
      "source": [
        "pip install ucimlrepo"
      ],
      "metadata": {
        "colab": {
          "base_uri": "https://localhost:8080/"
        },
        "id": "YLQTEFtUdx2K",
        "outputId": "92da260f-b74a-4482-bfd5-b5ab211e8267",
        "collapsed": true
      },
      "execution_count": 2,
      "outputs": [
        {
          "output_type": "stream",
          "name": "stdout",
          "text": [
            "Collecting ucimlrepo\n",
            "  Downloading ucimlrepo-0.0.7-py3-none-any.whl.metadata (5.5 kB)\n",
            "Requirement already satisfied: pandas>=1.0.0 in /usr/local/lib/python3.12/dist-packages (from ucimlrepo) (2.2.2)\n",
            "Requirement already satisfied: certifi>=2020.12.5 in /usr/local/lib/python3.12/dist-packages (from ucimlrepo) (2025.8.3)\n",
            "Requirement already satisfied: numpy>=1.26.0 in /usr/local/lib/python3.12/dist-packages (from pandas>=1.0.0->ucimlrepo) (2.0.2)\n",
            "Requirement already satisfied: python-dateutil>=2.8.2 in /usr/local/lib/python3.12/dist-packages (from pandas>=1.0.0->ucimlrepo) (2.9.0.post0)\n",
            "Requirement already satisfied: pytz>=2020.1 in /usr/local/lib/python3.12/dist-packages (from pandas>=1.0.0->ucimlrepo) (2025.2)\n",
            "Requirement already satisfied: tzdata>=2022.7 in /usr/local/lib/python3.12/dist-packages (from pandas>=1.0.0->ucimlrepo) (2025.2)\n",
            "Requirement already satisfied: six>=1.5 in /usr/local/lib/python3.12/dist-packages (from python-dateutil>=2.8.2->pandas>=1.0.0->ucimlrepo) (1.17.0)\n",
            "Downloading ucimlrepo-0.0.7-py3-none-any.whl (8.0 kB)\n",
            "Installing collected packages: ucimlrepo\n",
            "Successfully installed ucimlrepo-0.0.7\n"
          ]
        }
      ]
    },
    {
      "cell_type": "code",
      "source": [
        "from ucimlrepo import fetch_ucirepo, list_available_datasets\n",
        "\n",
        "# check which datasets can be imported\n",
        "list_available_datasets()\n",
        "\n",
        "# import dataset\n",
        "heart_disease = fetch_ucirepo(id=45)\n",
        "# alternatively: fetch_ucirepo(name='Heart Disease')\n",
        "\n",
        "# access data\n",
        "X = heart_disease.data.features\n",
        "y = heart_disease.data.targets\n",
        "# train model e.g. sklearn.linear_model.LinearRegression().fit(X, y)\n",
        "\n",
        "# access metadata\n",
        "print(heart_disease.metadata.uci_id)\n",
        "print(heart_disease.metadata.num_instances)\n",
        "print(heart_disease.metadata.additional_info.summary)\n",
        "\n",
        "# access variable info in tabular format\n",
        "print(heart_disease.variables)"
      ],
      "metadata": {
        "colab": {
          "base_uri": "https://localhost:8080/"
        },
        "id": "BLlOXkyXlUC2",
        "outputId": "e3899bfd-cfda-47c5-afd1-e5789d0c3fcc",
        "collapsed": true
      },
      "execution_count": 3,
      "outputs": [
        {
          "output_type": "stream",
          "name": "stdout",
          "text": [
            "-------------------------------------\n",
            "The following datasets are available:\n",
            "-------------------------------------\n",
            "Dataset Name                                                                            ID    \n",
            "------------                                                                            --    \n",
            "Abalone                                                                                 1     \n",
            "Adult                                                                                   2     \n",
            "Annealing                                                                               3     \n",
            "Audiology (Standardized)                                                                8     \n",
            "Auto MPG                                                                                9     \n",
            "Automobile                                                                              10    \n",
            "Balance Scale                                                                           12    \n",
            "Balloons                                                                                13    \n",
            "Breast Cancer                                                                           14    \n",
            "Breast Cancer Wisconsin (Original)                                                      15    \n",
            "Breast Cancer Wisconsin (Prognostic)                                                    16    \n",
            "Breast Cancer Wisconsin (Diagnostic)                                                    17    \n",
            "Pittsburgh Bridges                                                                      18    \n",
            "Car Evaluation                                                                          19    \n",
            "Census Income                                                                           20    \n",
            "Chess (King-Rook vs. King-Pawn)                                                         22    \n",
            "Chess (King-Rook vs. King)                                                              23    \n",
            "Connect-4                                                                               26    \n",
            "Credit Approval                                                                         27    \n",
            "Japanese Credit Screening                                                               28    \n",
            "Computer Hardware                                                                       29    \n",
            "Contraceptive Method Choice                                                             30    \n",
            "Covertype                                                                               31    \n",
            "Cylinder Bands                                                                          32    \n",
            "Dermatology                                                                             33    \n",
            "Echocardiogram                                                                          38    \n",
            "Ecoli                                                                                   39    \n",
            "Flags                                                                                   40    \n",
            "Glass Identification                                                                    42    \n",
            "Haberman's Survival                                                                     43    \n",
            "Hayes-Roth                                                                              44    \n",
            "Heart Disease                                                                           45    \n",
            "Hepatitis                                                                               46    \n",
            "Horse Colic                                                                             47    \n",
            "Image Segmentation                                                                      50    \n",
            "Ionosphere                                                                              52    \n",
            "Iris                                                                                    53    \n",
            "ISOLET                                                                                  54    \n",
            "Lenses                                                                                  58    \n",
            "Letter Recognition                                                                      59    \n",
            "Liver Disorders                                                                         60    \n",
            "Lung Cancer                                                                             62    \n",
            "Lymphography                                                                            63    \n",
            "Molecular Biology (Splice-junction Gene Sequences)                                      69    \n",
            "MONK's Problems                                                                         70    \n",
            "Mushroom                                                                                73    \n",
            "Musk (Version 1)                                                                        74    \n",
            "Musk (Version 2)                                                                        75    \n",
            "Nursery                                                                                 76    \n",
            "Page Blocks Classification                                                              78    \n",
            "Optical Recognition of Handwritten Digits                                               80    \n",
            "Pen-Based Recognition of Handwritten Digits                                             81    \n",
            "Post-Operative Patient                                                                  82    \n",
            "Primary Tumor                                                                           83    \n",
            "Servo                                                                                   87    \n",
            "Shuttle Landing Control                                                                 88    \n",
            "Solar Flare                                                                             89    \n",
            "Soybean (Large)                                                                         90    \n",
            "Soybean (Small)                                                                         91    \n",
            "Challenger USA Space Shuttle O-Ring                                                     92    \n",
            "Spambase                                                                                94    \n",
            "SPECT Heart                                                                             95    \n",
            "SPECTF Heart                                                                            96    \n",
            "Tic-Tac-Toe Endgame                                                                     101   \n",
            "Congressional Voting Records                                                            105   \n",
            "Waveform Database Generator (Version 1)                                                 107   \n",
            "Wine                                                                                    109   \n",
            "Yeast                                                                                   110   \n",
            "Zoo                                                                                     111   \n",
            "US Census Data (1990)                                                                   116   \n",
            "Census-Income (KDD)                                                                     117   \n",
            "El Nino                                                                                 122   \n",
            "Statlog (Australian Credit Approval)                                                    143   \n",
            "Statlog (German Credit Data)                                                            144   \n",
            "Statlog (Heart)                                                                         145   \n",
            "Statlog (Landsat Satellite)                                                             146   \n",
            "Statlog (Image Segmentation)                                                            147   \n",
            "Statlog (Shuttle)                                                                       148   \n",
            "Statlog (Vehicle Silhouettes)                                                           149   \n",
            "Connectionist Bench (Sonar, Mines vs. Rocks)                                            151   \n",
            "Cloud                                                                                   155   \n",
            "Poker Hand                                                                              158   \n",
            "MAGIC Gamma Telescope                                                                   159   \n",
            "Mammographic Mass                                                                       161   \n",
            "Forest Fires                                                                            162   \n",
            "Concrete Compressive Strength                                                           165   \n",
            "Ozone Level Detection                                                                   172   \n",
            "Parkinsons                                                                              174   \n",
            "Blood Transfusion Service Center                                                        176   \n",
            "Communities and Crime                                                                   183   \n",
            "Acute Inflammations                                                                     184   \n",
            "Wine Quality                                                                            186   \n",
            "Parkinsons Telemonitoring                                                               189   \n",
            "Cardiotocography                                                                        193   \n",
            "Steel Plates Faults                                                                     198   \n",
            "Communities and Crime Unnormalized                                                      211   \n",
            "Vertebral Column                                                                        212   \n",
            "Bank Marketing                                                                          222   \n",
            "ILPD (Indian Liver Patient Dataset)                                                     225   \n",
            "Skin Segmentation                                                                       229   \n",
            "Individual Household Electric Power Consumption                                         235   \n",
            "Energy Efficiency                                                                       242   \n",
            "Fertility                                                                               244   \n",
            "ISTANBUL STOCK EXCHANGE                                                                 247   \n",
            "User Knowledge Modeling                                                                 257   \n",
            "EEG Eye State                                                                           264   \n",
            "Banknote Authentication                                                                 267   \n",
            "Gas Sensor Array Drift at Different Concentrations                                      270   \n",
            "Bike Sharing                                                                            275   \n",
            "Thoracic Surgery Data                                                                   277   \n",
            "Airfoil Self-Noise                                                                      291   \n",
            "Wholesale customers                                                                     292   \n",
            "Combined Cycle Power Plant                                                              294   \n",
            "Diabetes 130-US Hospitals for Years 1999-2008                                           296   \n",
            "Tennis Major Tournament Match Statistics                                                300   \n",
            "Dow Jones Index                                                                         312   \n",
            "Student Performance                                                                     320   \n",
            "Phishing Websites                                                                       327   \n",
            "Diabetic Retinopathy Debrecen                                                           329   \n",
            "Online News Popularity                                                                  332   \n",
            "Chronic Kidney Disease                                                                  336   \n",
            "Mice Protein Expression                                                                 342   \n",
            "Default of Credit Card Clients                                                          350   \n",
            "Online Retail                                                                           352   \n",
            "Occupancy Detection                                                                     357   \n",
            "Air Quality                                                                             360   \n",
            "Polish Companies Bankruptcy                                                             365   \n",
            "Dota2 Games Results                                                                     367   \n",
            "Facebook Metrics                                                                        368   \n",
            "HTRU2                                                                                   372   \n",
            "Drug Consumption (Quantified)                                                           373   \n",
            "Appliances Energy Prediction                                                            374   \n",
            "Website Phishing                                                                        379   \n",
            "YouTube Spam Collection                                                                 380   \n",
            "Beijing PM2.5                                                                           381   \n",
            "
